{
 "cells": [
  {
   "cell_type": "code",
   "execution_count": 2,
   "metadata": {},
   "outputs": [],
   "source": [
    "from langchain_ollama import ChatOllama\n",
    "from langchain_core.messages import HumanMessage\n",
    "from langchain_core.output_parsers import StrOutputParser\n",
    "import base64\n",
    "from io import BytesIO\n",
    "from PIL import Image\n",
    "\n",
    "def convert_to_base64(pil_image):\n",
    "    \"\"\"\n",
    "    Convert PIL images to Base64 encoded strings\n",
    "\n",
    "    :param pil_image: PIL image\n",
    "    :return: Base64 string\n",
    "    \"\"\"\n",
    "    buffered = BytesIO()\n",
    "    pil_image.save(buffered, format=\"PNG\")  # You can change the format if needed\n",
    "    img_str = base64.b64encode(buffered.getvalue()).decode(\"utf-8\")\n",
    "    return img_str\n",
    "\n",
    "# Function to create the prompt with text and image\n",
    "def prompt_func(data):\n",
    "    if isinstance(data, str):\n",
    "        print(data)\n",
    "\n",
    "    text = data[\"text\"]\n",
    "    image = data[\"image\"]\n",
    "\n",
    "    image_part = {\n",
    "        \"type\": \"image_url\",\n",
    "        \"image_url\": f\"data:image/png;base64,{image}\",\n",
    "    }\n",
    "\n",
    "    content_parts = []\n",
    "\n",
    "    text_part = {\"type\": \"text\", \"text\": text}\n",
    "\n",
    "    content_parts.append(image_part)\n",
    "    content_parts.append(text_part)\n",
    "\n",
    "    return [HumanMessage(content=content_parts)]\n",
    "\n",
    "# Load and convert the image to base64\n",
    "file_path = \"/workspaces/PnP_Pl/colcon_ws/src/LLM_Control/llm_image_analyser/llm_image_analyser/kuka_img.png\"\n",
    "pil_image = Image.open(file_path)\n",
    "image_b64 = convert_to_base64(pil_image)\n",
    "image = f\"data:image/png;base64,{image_b64}\"\n",
    "# Invoke the chain with the text and image data\n",
    "# query_chain = chain.invoke(\n",
    "#     {\"text\": \"Describe image\", \"image\": image_b64}\n",
    "# )\n",
    "\n",
    "# print(query_chain)"
   ]
  },
  {
   "cell_type": "code",
   "execution_count": 3,
   "metadata": {},
   "outputs": [],
   "source": [
    "import json\n",
    "from langchain_community.chat_message_histories import ChatMessageHistory\n",
    "from langchain_core.chat_history import BaseChatMessageHistory\n",
    "from langchain_core.prompts import ChatPromptTemplate, MessagesPlaceholder\n",
    "from langchain_core.runnables.history import RunnableWithMessageHistory\n",
    "from langchain_ollama import ChatOllama\n",
    "from langchain_core.messages import HumanMessage\n",
    "\n",
    "llm = ChatOllama(model=\"llava\")\n",
    "\n",
    "qa_prompt = ChatPromptTemplate.from_messages([\n",
    "            # (\"system\", \"Nice Assistant\"),\n",
    "            (\"human\", \"{input}\")\n",
    "        ])"
   ]
  },
  {
   "cell_type": "code",
   "execution_count": 10,
   "metadata": {},
   "outputs": [
    {
     "name": "stdout",
     "output_type": "stream",
     "text": [
      "messages=[SystemMessage(content='Nice Assistant', additional_kwargs={}, response_metadata={}), HumanMessage(content=\"[{'type': 'image_url', 'image_url': 'data:image/png;base64,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'}, {'type': 'text', 'text': 'Describe this image'}]\", additional_kwargs={}, response_metadata={})]\n"
     ]
    }
   ],
   "source": [
    "file_path = \"/workspaces/PnP_Pl/colcon_ws/src/LLM_Control/llm_image_analyser/llm_image_analyser/kuka_img.png\"\n",
    "pil_image = Image.open(file_path)\n",
    "image_b64 = convert_to_base64(pil_image)\n",
    "image = f\"data:image/png;base64,{image_b64}\"\n",
    "\n",
    "input = [{\"type\": \"image_url\", \"image_url\": image}, {\"type\": \"text\", \"text\": \"Describe this image\"}]\n",
    "val = qa_prompt.invoke({\"input\": input})\n",
    "print(val)"
   ]
  },
  {
   "cell_type": "code",
   "execution_count": 7,
   "metadata": {},
   "outputs": [
    {
     "data": {
      "text/plain": [
       "[HumanMessage(content=[{'type': 'image_url', 'image_url': 'data:image/png;base64,image_b64'}, {'type': 'text', 'text': 'Describe image'}], additional_kwargs={}, response_metadata={})]"
      ]
     },
     "execution_count": 7,
     "metadata": {},
     "output_type": "execute_result"
    }
   ],
   "source": [
    "prompt_func({\"text\": \"Describe image\", \"image\": \"image_b64\"})"
   ]
  },
  {
   "cell_type": "code",
   "execution_count": 9,
   "metadata": {},
   "outputs": [
    {
     "data": {
      "text/plain": [
       "\" The image is a screenshot from a computer-generated environment, possibly within a simulation or video game. It features an indoor setting with a flat floor and walls. There's a single object in the scene: a small, orange robotic arm. This robot appears to have a few jointed segments and a grasping mechanism at its end. The robot is standing still, with no visible movement or interaction with other objects. The image has a low-resolution appearance, typical of older video game graphics or an early version of a simulation. There are no texts or additional elements in the image that would provide context or information about the scene. \""
      ]
     },
     "execution_count": 9,
     "metadata": {},
     "output_type": "execute_result"
    }
   ],
   "source": [
    "chain = prompt_func | llm | StrOutputParser()\n",
    "chain.invoke({\"text\": \"Describe image\", \"image\": image_b64})"
   ]
  }
 ],
 "metadata": {
  "kernelspec": {
   "display_name": "Python 3",
   "language": "python",
   "name": "python3"
  },
  "language_info": {
   "codemirror_mode": {
    "name": "ipython",
    "version": 3
   },
   "file_extension": ".py",
   "mimetype": "text/x-python",
   "name": "python",
   "nbconvert_exporter": "python",
   "pygments_lexer": "ipython3",
   "version": "3.10.12"
  }
 },
 "nbformat": 4,
 "nbformat_minor": 2
}
